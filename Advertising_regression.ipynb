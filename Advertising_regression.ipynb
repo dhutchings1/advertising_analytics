{
  "nbformat": 4,
  "nbformat_minor": 0,
  "metadata": {
    "colab": {
      "name": "Advertising-regression.ipynb",
      "provenance": []
    },
    "kernelspec": {
      "name": "python3",
      "display_name": "Python 3"
    }
  },
  "cells": [
    {
      "cell_type": "code",
      "metadata": {
        "colab": {
          "base_uri": "https://localhost:8080/"
        },
        "id": "1LmFUdo6_LPW",
        "outputId": "49fb2662-ed27-4d0e-ee76-32f53606d57b"
      },
      "source": [
        "from google.oauth2 import service_account\n",
        "from google.cloud import bigquery\n",
        "import pandas as pd\n",
        "import numpy as np\n",
        "import statsmodels.api as sm\n",
        "import matplotlib.pyplot as plt\n",
        "from sklearn.metrics import mean_absolute_error"
      ],
      "execution_count": 1,
      "outputs": [
        {
          "output_type": "stream",
          "text": [
            "/usr/local/lib/python3.6/dist-packages/statsmodels/tools/_testing.py:19: FutureWarning: pandas.util.testing is deprecated. Use the functions in the public API at pandas.testing instead.\n",
            "  import pandas.util.testing as tm\n"
          ],
          "name": "stderr"
        }
      ]
    },
    {
      "cell_type": "code",
      "metadata": {
        "id": "3CRrgt-a_eg2"
      },
      "source": [
        "# Credentials to access data in BigQuery\n",
        "# Private information has been excluded to privacy reasons\n",
        "credentials = service_account.Credentials.from_service_account_info(\n",
        "    {\n",
        "  \"type\": \"service_account\",\n",
        "  \"project_id\": \"dhutchings\",\n",
        "  \"private_key_id\": \"XXXXXXXXXXXXXXXXXXXXXX\",\n",
        "  \"private_key\": \"XXXXXXXXXXXXXXXXXXXXXX\",\n",
        "  \"client_email\": \"dhutchings####################\",\n",
        "  \"client_id\": \"XXXXXXXXXXXXXXXXXXXXXXXXXX\",\n",
        "  \"auth_uri\": \"https://accounts.google.com/o/oauth2/auth\",\n",
        "  \"token_uri\": \"https://oauth2.googleapis.com/token\",\n",
        "  \"auth_provider_x509_cert_url\": \"https://www.googleapis.com/oauth2/v1/certs\",\n",
        "  \"client_x509_cert_url\": \"XXXXXXXXXXXXXXXXXXXXXXXXXXXXX\"\n",
        "}\n",
        ")\n",
        "\n",
        "client = bigquery.Client('dhutchings', credentials = credentials)"
      ],
      "execution_count": 2,
      "outputs": []
    },
    {
      "cell_type": "code",
      "metadata": {
        "id": "3w81wi8NAEhR"
      },
      "source": [
        "# Query the metric total_conversions\n",
        "metric_query = '''\n",
        "SELECT date, SUM(conversions) as total_conversions\n",
        "FROM `dhutchings.lockerdome.all_months`\n",
        "GROUP BY date\n",
        "'''\n",
        "df_metric = client.query(metric_query).to_dataframe()"
      ],
      "execution_count": 6,
      "outputs": []
    },
    {
      "cell_type": "code",
      "metadata": {
        "id": "7RjXOkv5AEkK"
      },
      "source": [
        "# Query entire dataframe\n",
        "df_all = client.query(\"SELECT * FROM `dhutchings.lockerdome.all_months`\").to_dataframe()"
      ],
      "execution_count": 8,
      "outputs": []
    },
    {
      "cell_type": "code",
      "metadata": {
        "colab": {
          "base_uri": "https://localhost:8080/",
          "height": 204
        },
        "id": "6M5hEBRC_oj9",
        "outputId": "3c800ca8-508c-473e-b7a0-676f7b0d58c6"
      },
      "source": [
        "# Query the total impressions for each device each day\n",
        "df_device = df_all.groupby(['date']).apply(lambda df: df.groupby('device')['impressions'].sum())\n",
        "\n",
        "df_device.reset_index(inplace=True)\n",
        "df_device.drop(columns=['date'], inplace=True)\n",
        "df_device.head()"
      ],
      "execution_count": 43,
      "outputs": [
        {
          "output_type": "execute_result",
          "data": {
            "text/html": [
              "<div>\n",
              "<style scoped>\n",
              "    .dataframe tbody tr th:only-of-type {\n",
              "        vertical-align: middle;\n",
              "    }\n",
              "\n",
              "    .dataframe tbody tr th {\n",
              "        vertical-align: top;\n",
              "    }\n",
              "\n",
              "    .dataframe thead th {\n",
              "        text-align: right;\n",
              "    }\n",
              "</style>\n",
              "<table border=\"1\" class=\"dataframe\">\n",
              "  <thead>\n",
              "    <tr style=\"text-align: right;\">\n",
              "      <th>device</th>\n",
              "      <th>Desktop</th>\n",
              "      <th>Mobile</th>\n",
              "      <th>Other</th>\n",
              "      <th>Tablet</th>\n",
              "    </tr>\n",
              "  </thead>\n",
              "  <tbody>\n",
              "    <tr>\n",
              "      <th>0</th>\n",
              "      <td>813542</td>\n",
              "      <td>1164115</td>\n",
              "      <td>15</td>\n",
              "      <td>297290</td>\n",
              "    </tr>\n",
              "    <tr>\n",
              "      <th>1</th>\n",
              "      <td>727545</td>\n",
              "      <td>1081544</td>\n",
              "      <td>6</td>\n",
              "      <td>288526</td>\n",
              "    </tr>\n",
              "    <tr>\n",
              "      <th>2</th>\n",
              "      <td>641909</td>\n",
              "      <td>934360</td>\n",
              "      <td>5</td>\n",
              "      <td>200105</td>\n",
              "    </tr>\n",
              "    <tr>\n",
              "      <th>3</th>\n",
              "      <td>583884</td>\n",
              "      <td>934371</td>\n",
              "      <td>5</td>\n",
              "      <td>216483</td>\n",
              "    </tr>\n",
              "    <tr>\n",
              "      <th>4</th>\n",
              "      <td>645810</td>\n",
              "      <td>1255756</td>\n",
              "      <td>10</td>\n",
              "      <td>253522</td>\n",
              "    </tr>\n",
              "  </tbody>\n",
              "</table>\n",
              "</div>"
            ],
            "text/plain": [
              "device  Desktop   Mobile  Other  Tablet\n",
              "0        813542  1164115     15  297290\n",
              "1        727545  1081544      6  288526\n",
              "2        641909   934360      5  200105\n",
              "3        583884   934371      5  216483\n",
              "4        645810  1255756     10  253522"
            ]
          },
          "metadata": {
            "tags": []
          },
          "execution_count": 43
        }
      ]
    },
    {
      "cell_type": "code",
      "metadata": {
        "id": "4zhgX7he_ueV"
      },
      "source": [
        "# Concatenate metric and device dataframe\n",
        "reg_df = pd.concat([df_metric,df_device], axis=1)\n",
        "\n",
        "reg_df.rename(columns = {\"Desktop\": \"desktop_impressions\", \n",
        "                         \"Mobile\": \"mobile_impressions\", \n",
        "                         \"Other\": \"other_impressions\",\n",
        "                         \"Tablet\": \"tablet_impressions\"}, inplace=True)"
      ],
      "execution_count": 20,
      "outputs": []
    },
    {
      "cell_type": "code",
      "metadata": {
        "id": "2E0cAEL0_uhA"
      },
      "source": [
        "# Add a month column\n",
        "reg_df['date'] = pd.to_datetime(reg_df['date'])\n",
        "reg_df['month'] = reg_df['date'].dt.month\n",
        "reg_df['month'] = reg_df['month'].astype(str)"
      ],
      "execution_count": 27,
      "outputs": []
    },
    {
      "cell_type": "code",
      "metadata": {
        "id": "6CgSeqOD_ujh"
      },
      "source": [
        "# Independent variable dataframe\n",
        "X = reg_df[[c for c in reg_df.columns if c not in ['total_conversions', 'date']]]\n",
        "X = pd.get_dummies(X, columns=['month']). # converts month column to a dummy variable"
      ],
      "execution_count": 30,
      "outputs": []
    },
    {
      "cell_type": "code",
      "metadata": {
        "id": "UbqdVYwd_upQ"
      },
      "source": [
        "# Dependent variable series\n",
        "y = reg_df['total_conversions']"
      ],
      "execution_count": 31,
      "outputs": []
    },
    {
      "cell_type": "code",
      "metadata": {
        "id": "cPbq0nywDo_y"
      },
      "source": [
        "# Create model\n",
        "X = sm.add_constant(X)\n",
        "model = sm.OLS(y, X).fit()"
      ],
      "execution_count": 32,
      "outputs": []
    },
    {
      "cell_type": "code",
      "metadata": {
        "colab": {
          "base_uri": "https://localhost:8080/",
          "height": 604
        },
        "id": "pBsifwzeD55B",
        "outputId": "eb42a225-2a45-41bf-f6fa-9d0ccde266ad"
      },
      "source": [
        "# Regression results\n",
        "summary_results = model.summary()\n",
        "summary_results"
      ],
      "execution_count": 36,
      "outputs": [
        {
          "output_type": "execute_result",
          "data": {
            "text/html": [
              "<table class=\"simpletable\">\n",
              "<caption>OLS Regression Results</caption>\n",
              "<tr>\n",
              "  <th>Dep. Variable:</th>    <td>total_conversions</td> <th>  R-squared:         </th> <td>   0.869</td>\n",
              "</tr>\n",
              "<tr>\n",
              "  <th>Model:</th>                   <td>OLS</td>        <th>  Adj. R-squared:    </th> <td>   0.859</td>\n",
              "</tr>\n",
              "<tr>\n",
              "  <th>Method:</th>             <td>Least Squares</td>   <th>  F-statistic:       </th> <td>   93.65</td>\n",
              "</tr>\n",
              "<tr>\n",
              "  <th>Date:</th>             <td>Thu, 21 Jan 2021</td>  <th>  Prob (F-statistic):</th> <td>2.55e-35</td>\n",
              "</tr>\n",
              "<tr>\n",
              "  <th>Time:</th>                 <td>17:49:34</td>      <th>  Log-Likelihood:    </th> <td> -347.13</td>\n",
              "</tr>\n",
              "<tr>\n",
              "  <th>No. Observations:</th>      <td>    92</td>       <th>  AIC:               </th> <td>   708.3</td>\n",
              "</tr>\n",
              "<tr>\n",
              "  <th>Df Residuals:</th>          <td>    85</td>       <th>  BIC:               </th> <td>   725.9</td>\n",
              "</tr>\n",
              "<tr>\n",
              "  <th>Df Model:</th>              <td>     6</td>       <th>                     </th>     <td> </td>   \n",
              "</tr>\n",
              "<tr>\n",
              "  <th>Covariance Type:</th>      <td>nonrobust</td>     <th>                     </th>     <td> </td>   \n",
              "</tr>\n",
              "</table>\n",
              "<table class=\"simpletable\">\n",
              "<tr>\n",
              "           <td></td>              <th>coef</th>     <th>std err</th>      <th>t</th>      <th>P>|t|</th>  <th>[0.025</th>    <th>0.975]</th>  \n",
              "</tr>\n",
              "<tr>\n",
              "  <th>const</th>               <td>    5.9236</td> <td>    3.565</td> <td>    1.662</td> <td> 0.100</td> <td>   -1.165</td> <td>   13.012</td>\n",
              "</tr>\n",
              "<tr>\n",
              "  <th>desktop_impressions</th> <td> 5.585e-05</td> <td> 5.29e-06</td> <td>   10.553</td> <td> 0.000</td> <td> 4.53e-05</td> <td> 6.64e-05</td>\n",
              "</tr>\n",
              "<tr>\n",
              "  <th>mobile_impressions</th>  <td> 1.586e-05</td> <td> 3.82e-06</td> <td>    4.151</td> <td> 0.000</td> <td> 8.26e-06</td> <td> 2.35e-05</td>\n",
              "</tr>\n",
              "<tr>\n",
              "  <th>other_impressions</th>   <td>    0.1326</td> <td>    0.226</td> <td>    0.587</td> <td> 0.559</td> <td>   -0.317</td> <td>    0.582</td>\n",
              "</tr>\n",
              "<tr>\n",
              "  <th>tablet_impressions</th>  <td> 2.412e-05</td> <td> 9.77e-06</td> <td>    2.469</td> <td> 0.016</td> <td>  4.7e-06</td> <td> 4.35e-05</td>\n",
              "</tr>\n",
              "<tr>\n",
              "  <th>month_1</th>             <td>    6.6024</td> <td>    3.046</td> <td>    2.168</td> <td> 0.033</td> <td>    0.547</td> <td>   12.658</td>\n",
              "</tr>\n",
              "<tr>\n",
              "  <th>month_11</th>            <td>    0.0894</td> <td>    2.402</td> <td>    0.037</td> <td> 0.970</td> <td>   -4.687</td> <td>    4.866</td>\n",
              "</tr>\n",
              "<tr>\n",
              "  <th>month_12</th>            <td>   -0.7682</td> <td>    1.848</td> <td>   -0.416</td> <td> 0.679</td> <td>   -4.443</td> <td>    2.907</td>\n",
              "</tr>\n",
              "</table>\n",
              "<table class=\"simpletable\">\n",
              "<tr>\n",
              "  <th>Omnibus:</th>       <td> 3.230</td> <th>  Durbin-Watson:     </th> <td>   1.045</td>\n",
              "</tr>\n",
              "<tr>\n",
              "  <th>Prob(Omnibus):</th> <td> 0.199</td> <th>  Jarque-Bera (JB):  </th> <td>   2.554</td>\n",
              "</tr>\n",
              "<tr>\n",
              "  <th>Skew:</th>          <td> 0.371</td> <th>  Prob(JB):          </th> <td>   0.279</td>\n",
              "</tr>\n",
              "<tr>\n",
              "  <th>Kurtosis:</th>      <td> 3.339</td> <th>  Cond. No.          </th> <td>2.26e+22</td>\n",
              "</tr>\n",
              "</table><br/><br/>Warnings:<br/>[1] Standard Errors assume that the covariance matrix of the errors is correctly specified.<br/>[2] The smallest eigenvalue is 3.19e-31. This might indicate that there are<br/>strong multicollinearity problems or that the design matrix is singular."
            ],
            "text/plain": [
              "<class 'statsmodels.iolib.summary.Summary'>\n",
              "\"\"\"\n",
              "                            OLS Regression Results                            \n",
              "==============================================================================\n",
              "Dep. Variable:      total_conversions   R-squared:                       0.869\n",
              "Model:                            OLS   Adj. R-squared:                  0.859\n",
              "Method:                 Least Squares   F-statistic:                     93.65\n",
              "Date:                Thu, 21 Jan 2021   Prob (F-statistic):           2.55e-35\n",
              "Time:                        17:49:34   Log-Likelihood:                -347.13\n",
              "No. Observations:                  92   AIC:                             708.3\n",
              "Df Residuals:                      85   BIC:                             725.9\n",
              "Df Model:                           6                                         \n",
              "Covariance Type:            nonrobust                                         \n",
              "=======================================================================================\n",
              "                          coef    std err          t      P>|t|      [0.025      0.975]\n",
              "---------------------------------------------------------------------------------------\n",
              "const                   5.9236      3.565      1.662      0.100      -1.165      13.012\n",
              "desktop_impressions  5.585e-05   5.29e-06     10.553      0.000    4.53e-05    6.64e-05\n",
              "mobile_impressions   1.586e-05   3.82e-06      4.151      0.000    8.26e-06    2.35e-05\n",
              "other_impressions       0.1326      0.226      0.587      0.559      -0.317       0.582\n",
              "tablet_impressions   2.412e-05   9.77e-06      2.469      0.016     4.7e-06    4.35e-05\n",
              "month_1                 6.6024      3.046      2.168      0.033       0.547      12.658\n",
              "month_11                0.0894      2.402      0.037      0.970      -4.687       4.866\n",
              "month_12               -0.7682      1.848     -0.416      0.679      -4.443       2.907\n",
              "==============================================================================\n",
              "Omnibus:                        3.230   Durbin-Watson:                   1.045\n",
              "Prob(Omnibus):                  0.199   Jarque-Bera (JB):                2.554\n",
              "Skew:                           0.371   Prob(JB):                        0.279\n",
              "Kurtosis:                       3.339   Cond. No.                     2.26e+22\n",
              "==============================================================================\n",
              "\n",
              "Warnings:\n",
              "[1] Standard Errors assume that the covariance matrix of the errors is correctly specified.\n",
              "[2] The smallest eigenvalue is 3.19e-31. This might indicate that there are\n",
              "strong multicollinearity problems or that the design matrix is singular.\n",
              "\"\"\""
            ]
          },
          "metadata": {
            "tags": []
          },
          "execution_count": 36
        }
      ]
    },
    {
      "cell_type": "code",
      "metadata": {
        "id": "OlgJr5sYD6jN"
      },
      "source": [
        "# Convert regression results table into dataframe\n",
        "results_as_html = summary_results.tables[1].as_html()\n",
        "results_df = pd.read_html(results_as_html, header=0, index_col=0)[0]"
      ],
      "execution_count": 37,
      "outputs": []
    },
    {
      "cell_type": "code",
      "metadata": {
        "colab": {
          "base_uri": "https://localhost:8080/",
          "height": 297
        },
        "id": "KJKXfRFsEOoM",
        "outputId": "16f85d7b-2dba-4674-d322-d829ed10c920"
      },
      "source": [
        "results_df"
      ],
      "execution_count": 38,
      "outputs": [
        {
          "output_type": "execute_result",
          "data": {
            "text/html": [
              "<div>\n",
              "<style scoped>\n",
              "    .dataframe tbody tr th:only-of-type {\n",
              "        vertical-align: middle;\n",
              "    }\n",
              "\n",
              "    .dataframe tbody tr th {\n",
              "        vertical-align: top;\n",
              "    }\n",
              "\n",
              "    .dataframe thead th {\n",
              "        text-align: right;\n",
              "    }\n",
              "</style>\n",
              "<table border=\"1\" class=\"dataframe\">\n",
              "  <thead>\n",
              "    <tr style=\"text-align: right;\">\n",
              "      <th></th>\n",
              "      <th>coef</th>\n",
              "      <th>std err</th>\n",
              "      <th>t</th>\n",
              "      <th>P&gt;|t|</th>\n",
              "      <th>[0.025</th>\n",
              "      <th>0.975]</th>\n",
              "    </tr>\n",
              "  </thead>\n",
              "  <tbody>\n",
              "    <tr>\n",
              "      <th>const</th>\n",
              "      <td>5.923600</td>\n",
              "      <td>3.565000</td>\n",
              "      <td>1.662</td>\n",
              "      <td>0.100</td>\n",
              "      <td>-1.165000</td>\n",
              "      <td>13.012000</td>\n",
              "    </tr>\n",
              "    <tr>\n",
              "      <th>desktop_impressions</th>\n",
              "      <td>0.000056</td>\n",
              "      <td>0.000005</td>\n",
              "      <td>10.553</td>\n",
              "      <td>0.000</td>\n",
              "      <td>0.000045</td>\n",
              "      <td>0.000066</td>\n",
              "    </tr>\n",
              "    <tr>\n",
              "      <th>mobile_impressions</th>\n",
              "      <td>0.000016</td>\n",
              "      <td>0.000004</td>\n",
              "      <td>4.151</td>\n",
              "      <td>0.000</td>\n",
              "      <td>0.000008</td>\n",
              "      <td>0.000023</td>\n",
              "    </tr>\n",
              "    <tr>\n",
              "      <th>other_impressions</th>\n",
              "      <td>0.132600</td>\n",
              "      <td>0.226000</td>\n",
              "      <td>0.587</td>\n",
              "      <td>0.559</td>\n",
              "      <td>-0.317000</td>\n",
              "      <td>0.582000</td>\n",
              "    </tr>\n",
              "    <tr>\n",
              "      <th>tablet_impressions</th>\n",
              "      <td>0.000024</td>\n",
              "      <td>0.000010</td>\n",
              "      <td>2.469</td>\n",
              "      <td>0.016</td>\n",
              "      <td>0.000005</td>\n",
              "      <td>0.000044</td>\n",
              "    </tr>\n",
              "    <tr>\n",
              "      <th>month_1</th>\n",
              "      <td>6.602400</td>\n",
              "      <td>3.046000</td>\n",
              "      <td>2.168</td>\n",
              "      <td>0.033</td>\n",
              "      <td>0.547000</td>\n",
              "      <td>12.658000</td>\n",
              "    </tr>\n",
              "    <tr>\n",
              "      <th>month_11</th>\n",
              "      <td>0.089400</td>\n",
              "      <td>2.402000</td>\n",
              "      <td>0.037</td>\n",
              "      <td>0.970</td>\n",
              "      <td>-4.687000</td>\n",
              "      <td>4.866000</td>\n",
              "    </tr>\n",
              "    <tr>\n",
              "      <th>month_12</th>\n",
              "      <td>-0.768200</td>\n",
              "      <td>1.848000</td>\n",
              "      <td>-0.416</td>\n",
              "      <td>0.679</td>\n",
              "      <td>-4.443000</td>\n",
              "      <td>2.907000</td>\n",
              "    </tr>\n",
              "  </tbody>\n",
              "</table>\n",
              "</div>"
            ],
            "text/plain": [
              "                         coef   std err       t  P>|t|    [0.025     0.975]\n",
              "const                5.923600  3.565000   1.662  0.100 -1.165000  13.012000\n",
              "desktop_impressions  0.000056  0.000005  10.553  0.000  0.000045   0.000066\n",
              "mobile_impressions   0.000016  0.000004   4.151  0.000  0.000008   0.000023\n",
              "other_impressions    0.132600  0.226000   0.587  0.559 -0.317000   0.582000\n",
              "tablet_impressions   0.000024  0.000010   2.469  0.016  0.000005   0.000044\n",
              "month_1              6.602400  3.046000   2.168  0.033  0.547000  12.658000\n",
              "month_11             0.089400  2.402000   0.037  0.970 -4.687000   4.866000\n",
              "month_12            -0.768200  1.848000  -0.416  0.679 -4.443000   2.907000"
            ]
          },
          "metadata": {
            "tags": []
          },
          "execution_count": 38
        }
      ]
    },
    {
      "cell_type": "code",
      "metadata": {
        "id": "EsRSTKlHEPjb"
      },
      "source": [
        "# Model predictions on data it trained on\n",
        "preds = model.predict(X)"
      ],
      "execution_count": 39,
      "outputs": []
    },
    {
      "cell_type": "code",
      "metadata": {
        "colab": {
          "base_uri": "https://localhost:8080/",
          "height": 312
        },
        "id": "E2xcIsUkEY46",
        "outputId": "cf82327a-86ea-46a9-a032-6294d8e5f29d"
      },
      "source": [
        "# Plot to visualize actuals vs preds\n",
        "plt.scatter(y,preds)\n",
        "plt.xlabel(\"Actual Total Conversions\")\n",
        "plt.ylabel(\"Predicted Total Conversions\")\n",
        "plt.title(\"Actual vs Preds\")"
      ],
      "execution_count": 40,
      "outputs": [
        {
          "output_type": "execute_result",
          "data": {
            "text/plain": [
              "Text(0.5, 1.0, 'Actual vs Preds')"
            ]
          },
          "metadata": {
            "tags": []
          },
          "execution_count": 40
        },
        {
          "output_type": "display_data",
          "data": {
            "image/png": "[encoded data removed]",
            "text/plain": [
              "<Figure size 432x288 with 1 Axes>"
            ]
          },
          "metadata": {
            "tags": [],
            "needs_background": "light"
          }
        }
      ]
    },
    {
      "cell_type": "code",
      "metadata": {
        "colab": {
          "base_uri": "https://localhost:8080/"
        },
        "id": "rjNW7umnFeVE",
        "outputId": "379bedf8-871c-41df-dce1-1d44ae474eb4"
      },
      "source": [
        "# Mean absolute error of model\n",
        "mean_absolute_error(y,preds)"
      ],
      "execution_count": 41,
      "outputs": [
        {
          "output_type": "execute_result",
          "data": {
            "text/plain": [
              "8.000679588816842"
            ]
          },
          "metadata": {
            "tags": []
          },
          "execution_count": 41
        }
      ]
    }
  ]
}
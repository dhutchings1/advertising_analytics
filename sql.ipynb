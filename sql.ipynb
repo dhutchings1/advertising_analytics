{
  "nbformat": 4,
  "nbformat_minor": 0,
  "metadata": {
    "colab": {
      "name": "sql.ipynb",
      "provenance": []
    },
    "kernelspec": {
      "name": "python3",
      "display_name": "Python 3"
    }
  },
  "cells": [
    {
      "cell_type": "code",
      "metadata": {
        "id": "FCPF9YGmZhSG"
      },
      "source": [
        "from google.oauth2 import service_account\n",
        "from google.cloud import bigquery\n",
        "import pandas as pd"
      ],
      "execution_count": 4,
      "outputs": []
    },
    {
      "cell_type": "code",
      "metadata": {
        "id": "yuBC1cU_ZmTD"
      },
      "source": [
        "# Private credential information has been removed\n",
        "credentials = service_account.Credentials.from_service_account_info(\n",
        "    {\n",
        "  \"type\": \"service_account\",\n",
        "  \"project_id\": \"dhutchings\",\n",
        "  \"private_key_id\": \"XXXXXXXXXXXXXX\",\n",
        "  \"private_key\": \"XXXXXXXXXXXXXXXXXX\",\n",
        "  \"client_email\": \"XXXXXXXXXXXXXXXXXXX\",\n",
        "  \"client_id\": \"XXXXXXXXXXXXXXXXXXXXX\",\n",
        "  \"auth_uri\": \"https://accounts.google.com/o/oauth2/auth\",\n",
        "  \"token_uri\": \"https://oauth2.googleapis.com/token\",\n",
        "  \"auth_provider_x509_cert_url\": \"https://www.googleapis.com/oauth2/v1/certs\",\n",
        "  \"client_x509_cert_url\": \"XXXXXXXXXXXXXXXXX\"\n",
        "}\n",
        ")"
      ],
      "execution_count": 5,
      "outputs": []
    },
    {
      "cell_type": "code",
      "metadata": {
        "id": "gIhhcF0NZqTn"
      },
      "source": [
        "client = bigquery.Client('dhutchings', credentials = credentials)"
      ],
      "execution_count": 6,
      "outputs": []
    },
    {
      "cell_type": "code",
      "metadata": {
        "id": "KoCFpNadZuFp"
      },
      "source": [
        "# Returns a datatable that shows important metrics on a monthly basis\n",
        "query = '''\n",
        "SELECT month, SUM(conversions) AS total_conversions, SUM(impressions) as total_impressions,\n",
        "SUM(publisher_split) as total_cost,\n",
        "SUM(conversion_value) AS total_conversion_rev,\n",
        "(SUM(conversion_value)/SUM(impressions))*1000 AS rev_per_1000_impression, \n",
        "(SUM(publisher_split)/SUM(impressions))*1000 AS cost_per_1000_impression,\n",
        "SUM(impressions)/SUM(conversions) AS impressions_1_conversion,\n",
        "SUM(referrals)/SUM(conversions) AS referrals_1_conversion\n",
        "FROM `dhutchings.lockerdome.all_months`\n",
        "GROUP BY month\n",
        "'''\n",
        "df = client.query(query).to_dataframe()\n",
        "df.to_csv('/tmp/metric_table.csv')"
      ],
      "execution_count": 8,
      "outputs": []
    },
    {
      "cell_type": "code",
      "metadata": {
        "id": "puYZescxeDzY"
      },
      "source": [
        "##### Queries below were used to create advertising analytics dashboard #####"
      ],
      "execution_count": 10,
      "outputs": []
    },
    {
      "cell_type": "code",
      "metadata": {
        "id": "bKroK0dXdtXE"
      },
      "source": [
        "# Returns a datatable that shows important metrics on a daily basis\n",
        "cumulative_query = '''\n",
        "SELECT date, SUM(conversions) AS total_conversions, SUM(impressions) as total_impressions,\n",
        "SUM(publisher_split) as total_cost,\n",
        "SUM(conversion_value) AS total_conversion_rev,\n",
        "(SUM(conversion_value)/SUM(impressions))*1000 AS rev_per_1000_impression, \n",
        "(SUM(publisher_split)/SUM(impressions))*1000 AS cost_per_1000_impression,\n",
        "SUM(impressions)/SUM(conversions) AS impressions_1_conversion,\n",
        "SUM(referrals)/SUM(conversions) AS referrals_1_conversion\n",
        "FROM `dhutchings.lockerdome.all_months`\n",
        "GROUP BY date\n",
        "'''\n",
        "df = client.query(cumulative_query).to_dataframe()\n",
        "df.to_csv('/tmp/cum_table.csv')"
      ],
      "execution_count": 12,
      "outputs": []
    },
    {
      "cell_type": "code",
      "metadata": {
        "id": "YZuwd9pXbO9T"
      },
      "source": [
        "# This query returns key metrics grouped by date and device\n",
        "device_query = '''\n",
        "SELECT date, device, SUM(conversions) AS total_conversions, SUM(impressions) as total_impressions,\n",
        "SUM(publisher_split) as total_cost,\n",
        "SUM(conversion_value) AS total_conversion_rev,\n",
        "(SUM(conversion_value)/SUM(impressions))*1000 AS rev_per_1000_impression, \n",
        "(SUM(publisher_split)/SUM(impressions))*1000 AS cost_per_1000_impression,\n",
        "FROM `dhutchings.lockerdome.all_months`\n",
        "GROUP BY date, device\n",
        "HAVING device != \"Other\"\n",
        "'''\n",
        "df = client.query(device_query).to_dataframe()\n",
        "df.to_csv('/tmp/device_table.csv')"
      ],
      "execution_count": 14,
      "outputs": []
    },
    {
      "cell_type": "code",
      "metadata": {
        "id": "hHjBjqQFcx4u"
      },
      "source": [
        "# Returns top 10 creative ids based on conversion value per mille\n",
        "creative_query = '''\n",
        "SELECT creative_id, \n",
        "(SUM(conversion_value)/SUM(impressions))*1000 AS rev_per_1000_impression\n",
        "FROM `dhutchings.lockerdome.all_months`\n",
        "GROUP BY creative_id\n",
        "ORDER BY rev_per_1000_impression DESC\n",
        "LIMIT 10\n",
        "'''\n",
        "df = client.query(creative_query).to_dataframe()\n",
        "df.to_csv('/tmp/creative_table.csv')"
      ],
      "execution_count": 15,
      "outputs": []
    },
    {
      "cell_type": "code",
      "metadata": {
        "id": "qbh8kLrvcyF_"
      },
      "source": [
        "# Returns top 10 ad unit ids based on conversion value per mille\n",
        "ad_unit_query = '''\n",
        "SELECT ad_unit_id, \n",
        "CASE \n",
        "  WHEN SUM(impressions) = 0 THEN 0\n",
        "  ELSE (SUM(conversion_value)/SUM(impressions))*1000\n",
        "END AS rev_per_1000_impression\n",
        "FROM `dhutchings.lockerdome.all_months`\n",
        "GROUP BY ad_unit_id\n",
        "ORDER BY rev_per_1000_impression DESC\n",
        "LIMIT 10\n",
        "'''\n",
        "df = client.query(ad_unit_query).to_dataframe()\n",
        "df.to_csv('/tmp/ad_unit.csv')"
      ],
      "execution_count": 16,
      "outputs": []
    }
  ]
}